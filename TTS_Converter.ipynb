{
 "cells": [
  {
   "cell_type": "code",
   "execution_count": 11,
   "id": "f3b4e631-e83a-452a-a93b-c5e17676bc41",
   "metadata": {},
   "outputs": [
    {
     "name": "stdout",
     "output_type": "stream",
     "text": [
      "Image split into 52 pieces and saved to 'output_images'.\n"
     ]
    }
   ],
   "source": [
    "from PIL import Image\n",
    "import os\n",
    "\n",
    "def split_image(image_path, cols=13, rows=4):\n",
    "    # Open the original image\n",
    "    img = Image.open(image_path)\n",
    "    img_width, img_height = img.size\n",
    "    \n",
    "    # Calculate the size of each individual image\n",
    "    piece_width = img_width // cols\n",
    "    piece_height = img_height // rows\n",
    "    \n",
    "    # Create a directory to save the pieces\n",
    "    output_dir = \"output_images\"\n",
    "    os.makedirs(output_dir, exist_ok=True)\n",
    "    \n",
    "    # Loop through and save each piece\n",
    "    for row in range(rows):\n",
    "        for col in range(cols):\n",
    "            left = col * piece_width\n",
    "            upper = row * piece_height\n",
    "            right = left + piece_width\n",
    "            lower = upper + piece_height\n",
    "            \n",
    "            # Crop the image\n",
    "            if col == 12 and row == 3:\n",
    "                img_piece = img.crop((left, upper, right, lower))\n",
    "                img_piece.save(f\"{output_dir}/00 Back.png\")\n",
    "            else:\n",
    "                img_piece = img.crop((left, upper, right, lower))\n",
    "                img_piece.save(f\"{output_dir}/01x {row * cols + col + 1}.png\")\n",
    "\n",
    "    print(f\"Image split into {cols * rows} pieces and saved to '{output_dir}'.\")\n",
    "\n",
    "# Example usage\n",
    "split_image(\"MyDeck.png\")  # Update with your image path\n"
   ]
  },
  {
   "cell_type": "code",
   "execution_count": null,
   "id": "6cd864c0-0c3a-47eb-87e5-0ff77fbf22b3",
   "metadata": {},
   "outputs": [],
   "source": []
  }
 ],
 "metadata": {
  "kernelspec": {
   "display_name": "Python 3 (ipykernel)",
   "language": "python",
   "name": "python3"
  },
  "language_info": {
   "codemirror_mode": {
    "name": "ipython",
    "version": 3
   },
   "file_extension": ".py",
   "mimetype": "text/x-python",
   "name": "python",
   "nbconvert_exporter": "python",
   "pygments_lexer": "ipython3",
   "version": "3.12.3"
  }
 },
 "nbformat": 4,
 "nbformat_minor": 5
}
